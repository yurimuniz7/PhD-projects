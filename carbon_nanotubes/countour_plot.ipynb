{
 "metadata": {
  "language_info": {
   "codemirror_mode": {
    "name": "ipython",
    "version": 3
   },
   "file_extension": ".py",
   "mimetype": "text/x-python",
   "name": "python",
   "nbconvert_exporter": "python",
   "pygments_lexer": "ipython3",
   "version": "3.9.2"
  },
  "orig_nbformat": 2,
  "kernelspec": {
   "name": "python392jvsc74a57bd0ec5e6290676639dc05093a935efdb2dcd02f3febe16cb577a7afab8e1088ba7a",
   "display_name": "Python 3.9.2 64-bit"
  },
  "metadata": {
   "interpreter": {
    "hash": "ec5e6290676639dc05093a935efdb2dcd02f3febe16cb577a7afab8e1088ba7a"
   }
  }
 },
 "nbformat": 4,
 "nbformat_minor": 2,
 "cells": [
  {
   "source": [
    "# Notebbok for calculating the countour plot data using multiple computers \n",
    "## (my desktop and notebook)"
   ],
   "cell_type": "markdown",
   "metadata": {}
  },
  {
   "cell_type": "code",
   "execution_count": 1,
   "metadata": {},
   "outputs": [],
   "source": [
    "from calculations_utils import *\n",
    "from plot_utils import *"
   ]
  },
  {
   "cell_type": "code",
   "execution_count": null,
   "metadata": {},
   "outputs": [],
   "source": [
    "lambda_0 = 4.05*10**(-6)\n",
    "omega_0 = 2*np.pi*c/lambda_0\n",
    "mob = 10**4\n",
    "mu = e\n",
    "T = 300\n",
    "epsilon = 11.68\n",
    "\n",
    "# DON'T FORGET TO CHANGE THE RADIUS ARRAY\n",
    "R_nm_array = np.arange(10,15,0.2)\n",
    "\n",
    "distance_nm = 10\n",
    "m_max = 12\n",
    "\n",
    "gammas = []\n",
    "omega_steps = np.arange(0.01,0.5001,0.002)\n",
    "for R_nm in R_nm_array:\n",
    "    print('R (nm):', R_nm)\n",
    "    gamma_R = []\n",
    "    for step in omega_steps:\n",
    "        gamma_R.append(gamma(omega_0, omega_0*step, mu, tau_g(mob,mu), T, R_nm*10**(-9), (distance_nm + R_nm)*10**(-9), m_max, epsilon = epsilon))\n",
    "    gammas.append(gamma_R)\n",
    "\n",
    "    # DON'T FORGET TO GIVE A PROPER NAME TO THE DATA\n",
    "    np.save('contour_plot_data_10_15.npy',np.array(gammas))"
   ]
  }
 ]
}